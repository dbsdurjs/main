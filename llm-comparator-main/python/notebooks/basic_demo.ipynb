{
  "cells": [
    {
      "cell_type": "markdown",
      "metadata": {
        "id": "TMG3IgcdtzdI"
      },
      "source": [
        "# LLM Comparator: Running Comparative Evaluations with Google Vertex AI"
      ]
    },
    {
      "cell_type": "code",
      "execution_count": 4,
      "metadata": {
        "id": "Lu90H8Os4UFZ"
      },
      "outputs": [],
      "source": [
        "#@title Licensed under the Apache License, Version 2.0\n",
        "# Copyright 2024 Google LLC\n",
        "#\n",
        "# Licensed under the Apache License, Version 2.0 (the \"License\");\n",
        "# you may not use this file except in compliance with the License.\n",
        "# You may obtain a copy of the License at\n",
        "#\n",
        "#     http://www.apache.org/licenses/LICENSE-2.0\n",
        "#\n",
        "# Unless required by applicable law or agreed to in writing, software\n",
        "# distributed under the License is distributed on an \"AS IS\" BASIS,\n",
        "# WITHOUT WARRANTIES OR CONDITIONS OF ANY KIND, either express or implied.\n",
        "# See the License for the specific language governing permissions and\n",
        "# limitations under the License."
      ]
    },
    {
      "cell_type": "code",
      "execution_count": 5,
      "metadata": {
        "id": "kunEkAgFB9Yt"
      },
      "outputs": [
        {
          "name": "stdout",
          "output_type": "stream",
          "text": [
            "Requirement already satisfied: llm_comparator in /home/vcl/anaconda3/envs/armyclass2/lib/python3.10/site-packages (0.1)\n",
            "Requirement already satisfied: absl-py in /home/vcl/anaconda3/envs/armyclass2/lib/python3.10/site-packages (from llm_comparator) (2.3.1)\n",
            "Requirement already satisfied: numpy in /home/vcl/anaconda3/envs/armyclass2/lib/python3.10/site-packages (from llm_comparator) (1.26.4)\n",
            "Requirement already satisfied: tqdm in /home/vcl/anaconda3/envs/armyclass2/lib/python3.10/site-packages (from llm_comparator) (4.67.1)\n",
            "Requirement already satisfied: vertexai in /home/vcl/anaconda3/envs/armyclass2/lib/python3.10/site-packages (from llm_comparator) (1.71.1)\n",
            "Requirement already satisfied: google-cloud-aiplatform==1.71.1 in /home/vcl/anaconda3/envs/armyclass2/lib/python3.10/site-packages (from google-cloud-aiplatform[all]==1.71.1->vertexai->llm_comparator) (1.71.1)\n",
            "Requirement already satisfied: google-api-core!=2.0.*,!=2.1.*,!=2.2.*,!=2.3.*,!=2.4.*,!=2.5.*,!=2.6.*,!=2.7.*,<3.0.0dev,>=1.34.1 in /home/vcl/anaconda3/envs/armyclass2/lib/python3.10/site-packages (from google-api-core[grpc]!=2.0.*,!=2.1.*,!=2.2.*,!=2.3.*,!=2.4.*,!=2.5.*,!=2.6.*,!=2.7.*,<3.0.0dev,>=1.34.1->google-cloud-aiplatform==1.71.1->google-cloud-aiplatform[all]==1.71.1->vertexai->llm_comparator) (2.26.0)\n",
            "Requirement already satisfied: google-auth<3.0.0dev,>=2.14.1 in /home/vcl/anaconda3/envs/armyclass2/lib/python3.10/site-packages (from google-cloud-aiplatform==1.71.1->google-cloud-aiplatform[all]==1.71.1->vertexai->llm_comparator) (2.41.1)\n",
            "Requirement already satisfied: proto-plus<2.0.0dev,>=1.22.3 in /home/vcl/anaconda3/envs/armyclass2/lib/python3.10/site-packages (from google-cloud-aiplatform==1.71.1->google-cloud-aiplatform[all]==1.71.1->vertexai->llm_comparator) (1.26.1)\n",
            "Requirement already satisfied: protobuf!=4.21.0,!=4.21.1,!=4.21.2,!=4.21.3,!=4.21.4,!=4.21.5,<6.0.0dev,>=3.20.2 in /home/vcl/anaconda3/envs/armyclass2/lib/python3.10/site-packages (from google-cloud-aiplatform==1.71.1->google-cloud-aiplatform[all]==1.71.1->vertexai->llm_comparator) (5.29.5)\n",
            "Requirement already satisfied: packaging>=14.3 in /home/vcl/anaconda3/envs/armyclass2/lib/python3.10/site-packages (from google-cloud-aiplatform==1.71.1->google-cloud-aiplatform[all]==1.71.1->vertexai->llm_comparator) (25.0)\n",
            "Requirement already satisfied: google-cloud-storage<3.0.0dev,>=1.32.0 in /home/vcl/anaconda3/envs/armyclass2/lib/python3.10/site-packages (from google-cloud-aiplatform==1.71.1->google-cloud-aiplatform[all]==1.71.1->vertexai->llm_comparator) (2.19.0)\n",
            "Requirement already satisfied: google-cloud-bigquery!=3.20.0,<4.0.0dev,>=1.15.0 in /home/vcl/anaconda3/envs/armyclass2/lib/python3.10/site-packages (from google-cloud-aiplatform==1.71.1->google-cloud-aiplatform[all]==1.71.1->vertexai->llm_comparator) (3.38.0)\n",
            "Requirement already satisfied: google-cloud-resource-manager<3.0.0dev,>=1.3.3 in /home/vcl/anaconda3/envs/armyclass2/lib/python3.10/site-packages (from google-cloud-aiplatform==1.71.1->google-cloud-aiplatform[all]==1.71.1->vertexai->llm_comparator) (1.14.2)\n",
            "Requirement already satisfied: shapely<3.0.0dev in /home/vcl/anaconda3/envs/armyclass2/lib/python3.10/site-packages (from google-cloud-aiplatform==1.71.1->google-cloud-aiplatform[all]==1.71.1->vertexai->llm_comparator) (2.1.2)\n",
            "Requirement already satisfied: pydantic<3 in /home/vcl/anaconda3/envs/armyclass2/lib/python3.10/site-packages (from google-cloud-aiplatform==1.71.1->google-cloud-aiplatform[all]==1.71.1->vertexai->llm_comparator) (2.12.2)\n",
            "Requirement already satisfied: docstring-parser<1 in /home/vcl/anaconda3/envs/armyclass2/lib/python3.10/site-packages (from google-cloud-aiplatform==1.71.1->google-cloud-aiplatform[all]==1.71.1->vertexai->llm_comparator) (0.17.0)\n",
            "\u001b[33mWARNING: google-cloud-aiplatform 1.71.1 does not provide the extra 'all'\u001b[0m\u001b[33m\n",
            "\u001b[0mRequirement already satisfied: googleapis-common-protos<2.0.0,>=1.56.2 in /home/vcl/anaconda3/envs/armyclass2/lib/python3.10/site-packages (from google-api-core!=2.0.*,!=2.1.*,!=2.2.*,!=2.3.*,!=2.4.*,!=2.5.*,!=2.6.*,!=2.7.*,<3.0.0dev,>=1.34.1->google-api-core[grpc]!=2.0.*,!=2.1.*,!=2.2.*,!=2.3.*,!=2.4.*,!=2.5.*,!=2.6.*,!=2.7.*,<3.0.0dev,>=1.34.1->google-cloud-aiplatform==1.71.1->google-cloud-aiplatform[all]==1.71.1->vertexai->llm_comparator) (1.70.0)\n",
            "Requirement already satisfied: requests<3.0.0,>=2.18.0 in /home/vcl/anaconda3/envs/armyclass2/lib/python3.10/site-packages (from google-api-core!=2.0.*,!=2.1.*,!=2.2.*,!=2.3.*,!=2.4.*,!=2.5.*,!=2.6.*,!=2.7.*,<3.0.0dev,>=1.34.1->google-api-core[grpc]!=2.0.*,!=2.1.*,!=2.2.*,!=2.3.*,!=2.4.*,!=2.5.*,!=2.6.*,!=2.7.*,<3.0.0dev,>=1.34.1->google-cloud-aiplatform==1.71.1->google-cloud-aiplatform[all]==1.71.1->vertexai->llm_comparator) (2.32.5)\n",
            "Requirement already satisfied: grpcio<2.0.0,>=1.33.2 in /home/vcl/anaconda3/envs/armyclass2/lib/python3.10/site-packages (from google-api-core[grpc]!=2.0.*,!=2.1.*,!=2.2.*,!=2.3.*,!=2.4.*,!=2.5.*,!=2.6.*,!=2.7.*,<3.0.0dev,>=1.34.1->google-cloud-aiplatform==1.71.1->google-cloud-aiplatform[all]==1.71.1->vertexai->llm_comparator) (1.75.1)\n",
            "Requirement already satisfied: grpcio-status<2.0.0,>=1.33.2 in /home/vcl/anaconda3/envs/armyclass2/lib/python3.10/site-packages (from google-api-core[grpc]!=2.0.*,!=2.1.*,!=2.2.*,!=2.3.*,!=2.4.*,!=2.5.*,!=2.6.*,!=2.7.*,<3.0.0dev,>=1.34.1->google-cloud-aiplatform==1.71.1->google-cloud-aiplatform[all]==1.71.1->vertexai->llm_comparator) (1.71.2)\n",
            "Requirement already satisfied: cachetools<7.0,>=2.0.0 in /home/vcl/anaconda3/envs/armyclass2/lib/python3.10/site-packages (from google-auth<3.0.0dev,>=2.14.1->google-cloud-aiplatform==1.71.1->google-cloud-aiplatform[all]==1.71.1->vertexai->llm_comparator) (6.2.1)\n",
            "Requirement already satisfied: pyasn1-modules>=0.2.1 in /home/vcl/anaconda3/envs/armyclass2/lib/python3.10/site-packages (from google-auth<3.0.0dev,>=2.14.1->google-cloud-aiplatform==1.71.1->google-cloud-aiplatform[all]==1.71.1->vertexai->llm_comparator) (0.4.2)\n",
            "Requirement already satisfied: rsa<5,>=3.1.4 in /home/vcl/anaconda3/envs/armyclass2/lib/python3.10/site-packages (from google-auth<3.0.0dev,>=2.14.1->google-cloud-aiplatform==1.71.1->google-cloud-aiplatform[all]==1.71.1->vertexai->llm_comparator) (4.9.1)\n",
            "Requirement already satisfied: google-cloud-core<3.0.0,>=2.4.1 in /home/vcl/anaconda3/envs/armyclass2/lib/python3.10/site-packages (from google-cloud-bigquery!=3.20.0,<4.0.0dev,>=1.15.0->google-cloud-aiplatform==1.71.1->google-cloud-aiplatform[all]==1.71.1->vertexai->llm_comparator) (2.4.3)\n",
            "Requirement already satisfied: google-resumable-media<3.0.0,>=2.0.0 in /home/vcl/anaconda3/envs/armyclass2/lib/python3.10/site-packages (from google-cloud-bigquery!=3.20.0,<4.0.0dev,>=1.15.0->google-cloud-aiplatform==1.71.1->google-cloud-aiplatform[all]==1.71.1->vertexai->llm_comparator) (2.7.2)\n",
            "Requirement already satisfied: python-dateutil<3.0.0,>=2.8.2 in /home/vcl/anaconda3/envs/armyclass2/lib/python3.10/site-packages (from google-cloud-bigquery!=3.20.0,<4.0.0dev,>=1.15.0->google-cloud-aiplatform==1.71.1->google-cloud-aiplatform[all]==1.71.1->vertexai->llm_comparator) (2.9.0.post0)\n",
            "Requirement already satisfied: grpc-google-iam-v1<1.0.0,>=0.14.0 in /home/vcl/anaconda3/envs/armyclass2/lib/python3.10/site-packages (from google-cloud-resource-manager<3.0.0dev,>=1.3.3->google-cloud-aiplatform==1.71.1->google-cloud-aiplatform[all]==1.71.1->vertexai->llm_comparator) (0.14.3)\n",
            "Requirement already satisfied: google-crc32c<2.0dev,>=1.0 in /home/vcl/anaconda3/envs/armyclass2/lib/python3.10/site-packages (from google-cloud-storage<3.0.0dev,>=1.32.0->google-cloud-aiplatform==1.71.1->google-cloud-aiplatform[all]==1.71.1->vertexai->llm_comparator) (1.7.1)\n",
            "Requirement already satisfied: typing-extensions~=4.12 in /home/vcl/anaconda3/envs/armyclass2/lib/python3.10/site-packages (from grpcio<2.0.0,>=1.33.2->google-api-core[grpc]!=2.0.*,!=2.1.*,!=2.2.*,!=2.3.*,!=2.4.*,!=2.5.*,!=2.6.*,!=2.7.*,<3.0.0dev,>=1.34.1->google-cloud-aiplatform==1.71.1->google-cloud-aiplatform[all]==1.71.1->vertexai->llm_comparator) (4.15.0)\n",
            "Requirement already satisfied: annotated-types>=0.6.0 in /home/vcl/anaconda3/envs/armyclass2/lib/python3.10/site-packages (from pydantic<3->google-cloud-aiplatform==1.71.1->google-cloud-aiplatform[all]==1.71.1->vertexai->llm_comparator) (0.7.0)\n",
            "Requirement already satisfied: pydantic-core==2.41.4 in /home/vcl/anaconda3/envs/armyclass2/lib/python3.10/site-packages (from pydantic<3->google-cloud-aiplatform==1.71.1->google-cloud-aiplatform[all]==1.71.1->vertexai->llm_comparator) (2.41.4)\n",
            "Requirement already satisfied: typing-inspection>=0.4.2 in /home/vcl/anaconda3/envs/armyclass2/lib/python3.10/site-packages (from pydantic<3->google-cloud-aiplatform==1.71.1->google-cloud-aiplatform[all]==1.71.1->vertexai->llm_comparator) (0.4.2)\n",
            "Requirement already satisfied: six>=1.5 in /home/vcl/anaconda3/envs/armyclass2/lib/python3.10/site-packages (from python-dateutil<3.0.0,>=2.8.2->google-cloud-bigquery!=3.20.0,<4.0.0dev,>=1.15.0->google-cloud-aiplatform==1.71.1->google-cloud-aiplatform[all]==1.71.1->vertexai->llm_comparator) (1.17.0)\n",
            "Requirement already satisfied: charset_normalizer<4,>=2 in /home/vcl/anaconda3/envs/armyclass2/lib/python3.10/site-packages (from requests<3.0.0,>=2.18.0->google-api-core!=2.0.*,!=2.1.*,!=2.2.*,!=2.3.*,!=2.4.*,!=2.5.*,!=2.6.*,!=2.7.*,<3.0.0dev,>=1.34.1->google-api-core[grpc]!=2.0.*,!=2.1.*,!=2.2.*,!=2.3.*,!=2.4.*,!=2.5.*,!=2.6.*,!=2.7.*,<3.0.0dev,>=1.34.1->google-cloud-aiplatform==1.71.1->google-cloud-aiplatform[all]==1.71.1->vertexai->llm_comparator) (3.4.3)\n",
            "Requirement already satisfied: idna<4,>=2.5 in /home/vcl/anaconda3/envs/armyclass2/lib/python3.10/site-packages (from requests<3.0.0,>=2.18.0->google-api-core!=2.0.*,!=2.1.*,!=2.2.*,!=2.3.*,!=2.4.*,!=2.5.*,!=2.6.*,!=2.7.*,<3.0.0dev,>=1.34.1->google-api-core[grpc]!=2.0.*,!=2.1.*,!=2.2.*,!=2.3.*,!=2.4.*,!=2.5.*,!=2.6.*,!=2.7.*,<3.0.0dev,>=1.34.1->google-cloud-aiplatform==1.71.1->google-cloud-aiplatform[all]==1.71.1->vertexai->llm_comparator) (3.10)\n",
            "Requirement already satisfied: urllib3<3,>=1.21.1 in /home/vcl/anaconda3/envs/armyclass2/lib/python3.10/site-packages (from requests<3.0.0,>=2.18.0->google-api-core!=2.0.*,!=2.1.*,!=2.2.*,!=2.3.*,!=2.4.*,!=2.5.*,!=2.6.*,!=2.7.*,<3.0.0dev,>=1.34.1->google-api-core[grpc]!=2.0.*,!=2.1.*,!=2.2.*,!=2.3.*,!=2.4.*,!=2.5.*,!=2.6.*,!=2.7.*,<3.0.0dev,>=1.34.1->google-cloud-aiplatform==1.71.1->google-cloud-aiplatform[all]==1.71.1->vertexai->llm_comparator) (2.5.0)\n",
            "Requirement already satisfied: certifi>=2017.4.17 in /home/vcl/anaconda3/envs/armyclass2/lib/python3.10/site-packages (from requests<3.0.0,>=2.18.0->google-api-core!=2.0.*,!=2.1.*,!=2.2.*,!=2.3.*,!=2.4.*,!=2.5.*,!=2.6.*,!=2.7.*,<3.0.0dev,>=1.34.1->google-api-core[grpc]!=2.0.*,!=2.1.*,!=2.2.*,!=2.3.*,!=2.4.*,!=2.5.*,!=2.6.*,!=2.7.*,<3.0.0dev,>=1.34.1->google-cloud-aiplatform==1.71.1->google-cloud-aiplatform[all]==1.71.1->vertexai->llm_comparator) (2025.10.5)\n",
            "Requirement already satisfied: pyasn1>=0.1.3 in /home/vcl/anaconda3/envs/armyclass2/lib/python3.10/site-packages (from rsa<5,>=3.1.4->google-auth<3.0.0dev,>=2.14.1->google-cloud-aiplatform==1.71.1->google-cloud-aiplatform[all]==1.71.1->vertexai->llm_comparator) (0.6.1)\n"
          ]
        }
      ],
      "source": [
        "#@title Install the LLM Comparator package\n",
        "! pip install llm_comparator"
      ]
    },
    {
      "cell_type": "code",
      "execution_count": 7,
      "metadata": {
        "id": "QZlVpN83nJBv"
      },
      "outputs": [
        {
          "name": "stderr",
          "output_type": "stream",
          "text": [
            "/home/vcl/anaconda3/envs/armyclass2/lib/python3.10/site-packages/tqdm/auto.py:21: TqdmWarning: IProgress not found. Please update jupyter and ipywidgets. See https://ipywidgets.readthedocs.io/en/stable/user_install.html\n",
            "  from .autonotebook import tqdm as notebook_tqdm\n"
          ]
        }
      ],
      "source": [
        "#@title Import relevant packages\n",
        "import vertexai\n",
        "from google.colab import auth\n",
        "\n",
        "# The comparison library provides the primary API for running Comparative\n",
        "# Evaluations and generating the JSON files required by the LLM Comparator web\n",
        "# app.\n",
        "from llm_comparator import comparison\n",
        "\n",
        "# The model_helper library is used to initialize API wrapper to interface with\n",
        "# models. For this demo we focus on models served by Google Vertex AI, but you\n",
        "# can extend the llm_comparator.model_helper.GenerationModelHelper and\n",
        "# llm_comparator.model_helper.EmbeddingModelHelper classes to work with other\n",
        "# providers or models you host yourself.\n",
        "from llm_comparator import model_helper\n",
        "\n",
        "# The following libraries contain wrappers that implement the core functionality\n",
        "# of the Comparative Evaluation workflow. More on these below.\n",
        "from llm_comparator import llm_judge_runner\n",
        "from llm_comparator import rationale_bullet_generator\n",
        "from llm_comparator import rationale_cluster_generator"
      ]
    },
    {
      "cell_type": "code",
      "execution_count": 8,
      "metadata": {
        "id": "3ygUJPVxDMB7"
      },
      "outputs": [
        {
          "ename": "NameError",
          "evalue": "name 'auth' is not defined",
          "output_type": "error",
          "traceback": [
            "\u001b[0;31m---------------------------------------------------------------------------\u001b[0m",
            "\u001b[0;31mNameError\u001b[0m                                 Traceback (most recent call last)",
            "Cell \u001b[0;32mIn[8], line 5\u001b[0m\n\u001b[1;32m      2\u001b[0m PROJECT_ID \u001b[38;5;241m=\u001b[39m \u001b[38;5;124m'\u001b[39m\u001b[38;5;124myour_project_id\u001b[39m\u001b[38;5;124m'\u001b[39m  \u001b[38;5;66;03m#@param {type: \"string\"}\u001b[39;00m\n\u001b[1;32m      3\u001b[0m REGION \u001b[38;5;241m=\u001b[39m \u001b[38;5;124m'\u001b[39m\u001b[38;5;124mus-central1\u001b[39m\u001b[38;5;124m'\u001b[39m  \u001b[38;5;66;03m#@param {type: \"string\"}\u001b[39;00m\n\u001b[0;32m----> 5\u001b[0m \u001b[43mauth\u001b[49m\u001b[38;5;241m.\u001b[39mauthenticate_user()\n\u001b[1;32m      6\u001b[0m get_ipython()\u001b[38;5;241m.\u001b[39msystem(\u001b[38;5;124m'\u001b[39m\u001b[38;5;124m gcloud config set project \u001b[39m\u001b[38;5;132;01m{PROJECT_ID}\u001b[39;00m\u001b[38;5;124m'\u001b[39m)\n\u001b[1;32m      7\u001b[0m vertexai\u001b[38;5;241m.\u001b[39minit(project\u001b[38;5;241m=\u001b[39mPROJECT_ID, location\u001b[38;5;241m=\u001b[39mREGION)\n",
            "\u001b[0;31mNameError\u001b[0m: name 'auth' is not defined"
          ]
        }
      ],
      "source": [
        "#@title Setup and authenticate with Google Vertex AI.\n",
        "PROJECT_ID = 'your_project_id'  #@param {type: \"string\"}\n",
        "REGION = 'us-central1'  #@param {type: \"string\"}\n",
        "\n",
        "auth.authenticate_user()\n",
        "! gcloud config set project {PROJECT_ID}\n",
        "vertexai.init(project=PROJECT_ID, location=REGION)"
      ]
    },
    {
      "cell_type": "code",
      "execution_count": null,
      "metadata": {
        "id": "JBGp4LiVCO00"
      },
      "outputs": [],
      "source": [
        "#@title Prepare Your Inputs\n",
        "\n",
        "# See llm_comparator.llm_judge_runner.LLMJudgeInput for the required input type.\n",
        "llm_judge_inputs = [\n",
        "    {'prompt': 'how are you?', 'response_a': 'good', 'response_b': 'bad'},\n",
        "    {'prompt': 'hello?', 'response_a': 'hello', 'response_b': 'hi'},\n",
        "    {'prompt': 'what is the capital of korea?', 'response_a': 'Seoul', 'response_b': 'Vancouver'}\n",
        "]"
      ]
    },
    {
      "cell_type": "code",
      "execution_count": null,
      "metadata": {
        "id": "Xy6GxkgJCD-M"
      },
      "outputs": [],
      "source": [
        "#@title Initialize models used in the LLM Comparator evaluation.\n",
        "\n",
        "# The generator model can be any Text-to-Text LLM provided by Vertex AI. This\n",
        "# model will be asked to do a series of tasks---judge, bulletize, and cluster---\n",
        "# and it is often beneficial to use a larger model for this reason.\n",
        "#\n",
        "# We default to 'gemini-pro' but you can change this with the `model_name=`\n",
        "# param. For a full list of models available via the Model Garden, check out\n",
        "# https://console.cloud.google.com/vertex-ai/model-garden?pageState=(%22galleryStateKey%22:(%22f%22:(%22g%22:%5B%22supportedTasks%22,%22inputTypes%22%5D,%22o%22:%5B%22GENERATION%22,%22LANGUAGE%22%5D),%22s%22:%22%22)).\n",
        "#\n",
        "# Since we're using Gemini Pro, a very competent and flexible foundation model,\n",
        "# we are sharing the same generator across all downstream tasks. However, you\n",
        "# could use different models for each task if desired.\n",
        "generator = model_helper.VertexGenerationModelHelper()\n",
        "\n",
        "# The embedding model can be any text embedder provided by Vertex AI. We default\n",
        "# to 'textembedding-gecko@003' but you can change this with the `model_name=`\n",
        "# param. For a full list of models available via the Model Garden, check out\n",
        "# https://console.cloud.google.com/vertex-ai/model-garden?pageState=(%22galleryStateKey%22:(%22f%22:(%22g%22:%5B%22supportedTasks%22,%22inputTypes%22%5D,%22o%22:%5B%22EMBEDDING%22,%22LANGUAGE%22%5D),%22s%22:%22%22))\n",
        "embedder = model_helper.VertexEmbeddingModelHelper()\n",
        "\n",
        "# The following models do the core work of a Comparative Evaluation: judge,\n",
        "# bulletize, and cluster. Each class provides a `.run()` function, and the\n",
        "# `llm_comparator.comparison.run()` API orchestrates configuring and calling\n",
        "# these APIs on the instances you pass in. More on how to configure these below.\n",
        "\n",
        "# The `judge` is the model responsible for actually doing the comparison between\n",
        "# the two models. The same judge is run multiple times to get a diversity of\n",
        "# perspectives, more on how to configure this below.\n",
        "#\n",
        "# A judge must phrase its responses in a simple XML format that includes the\n",
        "# verdict and an explanation of the results, to enable downstream processing by\n",
        "# the bulletizer and clusterer.\n",
        "#\n",
        "#     <result>\n",
        "#       <explanation>YOUR EXPLANATION GOES HERE.</explanation>\n",
        "#       <verdict>A is slightly better</verdict>\n",
        "#     </result>\n",
        "#\n",
        "# We provide a default \"judge\" prompt in\n",
        "# llm_comparator.llm_judge_runner.DEFAULT_LLM_JUDGE_PROMPT_TEMPLATE, and you can\n",
        "# use the `llm_judge_prompt_template=` parameter to provide a custom prompt that\n",
        "# may better suit your needs.\n",
        "judge = llm_judge_runner.LLMJudgeRunner(generator)\n",
        "\n",
        "# The `bulletizer` condenses the results provided by the judge into a set of\n",
        "# bullets to make them easier to understand and consume in the UI.\n",
        "bulletizer = rationale_bullet_generator.RationaleBulletGenerator(generator)\n",
        "\n",
        "# The `clusterer` takes the bullets, embeds them, groups them into clusters\n",
        "# based on embedding similarity, and generates a label for those clusters.\n",
        "clusterer = rationale_cluster_generator.RationaleClusterGenerator(\n",
        "    generator, embedder\n",
        ")"
      ]
    },
    {
      "cell_type": "code",
      "execution_count": null,
      "metadata": {
        "id": "QUU3V63vVbvS"
      },
      "outputs": [],
      "source": [
        "#@title Run the Comparative Evaluation.\n",
        "\n",
        "# The comparison.run() function is the primary interface for running a\n",
        "# Comparative Evaluation. It take your prepared inputs, a judge, a buletizer,\n",
        "# and a clusterer and returns a Python dictioary in the required format for use\n",
        "# in the LLM Comparator web app. You can inspect this dictionary in Python if\n",
        "# you like, but it's more useful once written to a file.\n",
        "#\n",
        "# The example below is basic, but you can use the judge_opts=, bulletizer_opts=,\n",
        "# and/or clusterer_opts= parameters (all of which are optional dictionaries that\n",
        "# are converted to keyword options) to further customize the behaviors. See the\n",
        "# Docsrtrings for more.\n",
        "comparison_result = comparison.run(\n",
        "    llm_judge_inputs,\n",
        "    judge,\n",
        "    bulletizer,\n",
        "    clusterer,\n",
        ")"
      ]
    },
    {
      "cell_type": "code",
      "execution_count": null,
      "metadata": {
        "id": "hViMkxUGhnTA"
      },
      "outputs": [],
      "source": [
        "#@title [Optional] Save the results to a file.\n",
        "file_path = 'json_for_llm_comparator.json' # @param {type: \"string\"}\n",
        "comparison.write(comparison_result, file_path)"
      ]
    },
    {
      "cell_type": "code",
      "execution_count": null,
      "metadata": {
        "id": "7W4B1uzqvJZ-"
      },
      "outputs": [],
      "source": [
        "#@title [Optional] View the results in the app in Colab.\n",
        "comparison.show_in_colab(file_path)"
      ]
    }
  ],
  "metadata": {
    "colab": {
      "last_runtime": {
        "build_target": "",
        "kind": "local"
      },
      "private_outputs": true,
      "provenance": [
        {
          "file_id": "/piper/depot/google3/third_party/javascript/llm_comparator/python/notebooks/run_scripts_for_llm_comparator.ipynb?workspaceId=kahng:comparator12-2::citc",
          "timestamp": 1718335330333
        },
        {
          "file_id": "/piper/depot/google3/third_party/javascript/llm_comparator/python/notebooks/run_scripts_for_llm_comparator.ipynb?workspaceId=kahng:fig-export-comparator12-2-3818-change-2::citc",
          "timestamp": 1718334507750
        },
        {
          "file_id": "/piper/depot/google3/third_party/javascript/llm_comparator/python/notebooks/run_scripts_for_llm_comparator.ipynb?workspaceId=kahng:fig-export-comparator12-2-3818-change-2::citc",
          "timestamp": 1718215678229
        }
      ]
    },
    "kernelspec": {
      "display_name": "armyclass2",
      "language": "python",
      "name": "python3"
    },
    "language_info": {
      "codemirror_mode": {
        "name": "ipython",
        "version": 3
      },
      "file_extension": ".py",
      "mimetype": "text/x-python",
      "name": "python",
      "nbconvert_exporter": "python",
      "pygments_lexer": "ipython3",
      "version": "3.10.18"
    }
  },
  "nbformat": 4,
  "nbformat_minor": 0
}
